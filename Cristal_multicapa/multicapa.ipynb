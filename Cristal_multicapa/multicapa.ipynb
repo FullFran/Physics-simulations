{
 "cells": [
  {
   "cell_type": "code",
   "execution_count": 1,
   "metadata": {},
   "outputs": [],
   "source": [
    "\n",
    "import numpy as np\n",
    "import matplotlib.pyplot as plt\n",
    "\n",
    "import funciones as fn\n"
   ]
  },
  {
   "cell_type": "code",
   "execution_count": 6,
   "metadata": {},
   "outputs": [
    {
     "name": "stdout",
     "output_type": "stream",
     "text": [
      "t = (-0.45-0.821j),  r = (-0.309+0.169j), \n",
      " ta = (-0.45-0.821j), ra = (-0.309+0.169j) \n",
      "0.8762346717954737 0.12376532820452633\n",
      "0.8762346717954739 0.12376532820452633\n"
     ]
    }
   ],
   "source": [
    "# Unidades en nanómetros\n",
    "\n",
    "n1 = 1.0\n",
    "n2 = 1.5\n",
    "n3 = 1.0\n",
    "d = 100.0\n",
    "wavel = 440\n",
    "\n",
    "\n",
    "theta1 = np.pi/180 * 15\n",
    "\n",
    "theta2 = fn.snell_law(n1, n2, theta1)\n",
    "\n",
    "theta3 = fn.snell_law(n2, n3, theta2)\n",
    "\n",
    "D1 = fn.inter(n1, theta1)\n",
    "D2 = fn.inter(n2, theta2)\n",
    "D3 = fn.inter(n3, theta3)\n",
    "\n",
    "D1inv = np.linalg.inv(D1)\n",
    "D2inv = np.linalg.inv(D2)\n",
    "\n",
    "P2 = fn.prop(theta2, d, n2, wavel)\n",
    "\n",
    "dtot = D1inv @ D2 @ P2 @ D2inv @ D3\n",
    "\n",
    "t = 1/dtot[0,0]\n",
    "r = dtot[1,0]/dtot[0,0]\n",
    "\n",
    "ta, ra = fn.coef_monocapa(n1, n2, n3, d, theta1, theta2, theta3, wavel)\n",
    "\n",
    "print(f't = {np.round(t,3)},  r = {np.round(r,3)}, \\n ta = {np.round(ta, 3)}, ra = {np.round(ra,3)} ')\n",
    "\n",
    "T, R = fn.coef_TR(t,r, theta1, theta3,  n1, n3)\n",
    "Ta, Ra = fn.coef_TR(ta,ra, theta1, theta3,  n1, n3)\n",
    "\n",
    "\n",
    "print(T, R)\n",
    "print(Ta, Ra)"
   ]
  },
  {
   "cell_type": "code",
   "execution_count": 39,
   "metadata": {},
   "outputs": [
    {
     "name": "stdout",
     "output_type": "stream",
     "text": [
      "t = (-0.78-0.615j),  r = (-0.089+0.074j)\n",
      "0.9867574622178478 0.013242537782153379\n",
      "1.000000000000001\n"
     ]
    }
   ],
   "source": [
    "n0 = 1.0\n",
    "\n",
    "n1 = 1.2\n",
    "n2 = 1.8\n",
    "\n",
    "d1 = 80\n",
    "d2 = 120\n",
    "d3 = 80\n",
    "d4 = 120\n",
    "\n",
    "wavel = 440\n",
    "\n",
    "n = [n0, n1, n2, n1, n2, n0]\n",
    "d = [0, d1, d2, d3, d4, 0]\n",
    "\n",
    "theta0 = np.pi/180 * 15\n",
    "theta = [theta0]\n",
    "D = [fn.inter(n0, theta0)]\n",
    "Dinv = [np.linalg.inv(D[0])]\n",
    "P = [0]\n",
    "dtot = Dinv[0]\n",
    "\n",
    "for i in range(len(n)-1):\n",
    "    theta.append(fn.snell_law(n[i], n[i+1], theta[-1]))\n",
    "\n",
    "    D = fn.inter(n[i+1], theta[i+1])\n",
    "    Dinv =np.linalg.inv(D)\n",
    "    P = fn.prop(theta[i+1], d[i+1], n[i+1], wavel)\n",
    "    dtot = dtot @ D @ P @ Dinv\n",
    "\n",
    "\n",
    "D = fn.inter(n0, theta[-1])\n",
    "\n",
    "dtot = dtot @ D\n",
    "\n",
    "t = 1/dtot[0,0]\n",
    "r = dtot[1,0]/dtot[0,0]\n",
    "\n",
    "\n",
    "print(f't = {np.round(t,3)},  r = {np.round(r,3)}')\n",
    "\n",
    "T, R = fn.coef_TR(t,r, theta0, theta[-1],  n0, n0)\n",
    "\n",
    "print(T, R)\n",
    "print(T+R)"
   ]
  }
 ],
 "metadata": {
  "kernelspec": {
   "display_name": "base",
   "language": "python",
   "name": "python3"
  },
  "language_info": {
   "codemirror_mode": {
    "name": "ipython",
    "version": 3
   },
   "file_extension": ".py",
   "mimetype": "text/x-python",
   "name": "python",
   "nbconvert_exporter": "python",
   "pygments_lexer": "ipython3",
   "version": "3.12.0"
  }
 },
 "nbformat": 4,
 "nbformat_minor": 2
}
