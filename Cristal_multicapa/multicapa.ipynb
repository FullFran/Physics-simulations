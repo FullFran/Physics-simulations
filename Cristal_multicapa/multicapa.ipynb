{
 "cells": [
  {
   "cell_type": "code",
   "execution_count": 1,
   "metadata": {},
   "outputs": [],
   "source": [
    "\n",
    "import numpy as np\n",
    "import matplotlib.pyplot as plt\n",
    "\n",
    "import funciones as fn"
   ]
  },
  {
   "cell_type": "code",
   "execution_count": 2,
   "metadata": {},
   "outputs": [
    {
     "ename": "TypeError",
     "evalue": "coef_monocapa() missing 1 required positional argument: 'wavel'",
     "output_type": "error",
     "traceback": [
      "\u001b[1;31m---------------------------------------------------------------------------\u001b[0m",
      "\u001b[1;31mTypeError\u001b[0m                                 Traceback (most recent call last)",
      "Cell \u001b[1;32mIn[2], line 29\u001b[0m\n\u001b[0;32m     26\u001b[0m t \u001b[38;5;241m=\u001b[39m \u001b[38;5;241m1\u001b[39m\u001b[38;5;241m/\u001b[39mdtot[\u001b[38;5;241m0\u001b[39m,\u001b[38;5;241m0\u001b[39m]\n\u001b[0;32m     27\u001b[0m r \u001b[38;5;241m=\u001b[39m dtot[\u001b[38;5;241m1\u001b[39m,\u001b[38;5;241m0\u001b[39m]\u001b[38;5;241m/\u001b[39mdtot[\u001b[38;5;241m0\u001b[39m,\u001b[38;5;241m0\u001b[39m]\n\u001b[1;32m---> 29\u001b[0m ta, ra \u001b[38;5;241m=\u001b[39m \u001b[43mfn\u001b[49m\u001b[38;5;241;43m.\u001b[39;49m\u001b[43mcoef_monocapa\u001b[49m\u001b[43m(\u001b[49m\u001b[43mn1\u001b[49m\u001b[43m,\u001b[49m\u001b[43m \u001b[49m\u001b[43mn2\u001b[49m\u001b[43m,\u001b[49m\u001b[43m \u001b[49m\u001b[43mn3\u001b[49m\u001b[43m,\u001b[49m\u001b[43m \u001b[49m\u001b[43mtheta1\u001b[49m\u001b[43m,\u001b[49m\u001b[43m \u001b[49m\u001b[43mtheta2\u001b[49m\u001b[43m,\u001b[49m\u001b[43m \u001b[49m\u001b[43mtheta3\u001b[49m\u001b[43m,\u001b[49m\u001b[43m \u001b[49m\u001b[43mwavel\u001b[49m\u001b[43m)\u001b[49m\n\u001b[0;32m     31\u001b[0m \u001b[38;5;28mprint\u001b[39m(\u001b[38;5;124mf\u001b[39m\u001b[38;5;124m'\u001b[39m\u001b[38;5;124mt = \u001b[39m\u001b[38;5;132;01m{\u001b[39;00mt\u001b[38;5;132;01m}\u001b[39;00m\u001b[38;5;124m, ta = \u001b[39m\u001b[38;5;132;01m{\u001b[39;00mta\u001b[38;5;132;01m}\u001b[39;00m\u001b[38;5;124m \u001b[39m\u001b[38;5;130;01m\\n\u001b[39;00m\u001b[38;5;124m r = \u001b[39m\u001b[38;5;132;01m{\u001b[39;00mr\u001b[38;5;132;01m}\u001b[39;00m\u001b[38;5;124m, ra = \u001b[39m\u001b[38;5;132;01m{\u001b[39;00mra\u001b[38;5;132;01m}\u001b[39;00m\u001b[38;5;124m'\u001b[39m)\n",
      "\u001b[1;31mTypeError\u001b[0m: coef_monocapa() missing 1 required positional argument: 'wavel'"
     ]
    }
   ],
   "source": [
    "# Unidades en nanómetros\n",
    "\n",
    "n1 = 1.0\n",
    "n2 = 1.5\n",
    "n3 = 1.0\n",
    "d = 100.0\n",
    "wavel = 440\n",
    "\n",
    "\n",
    "theta1 = np.pi/2\n",
    "\n",
    "theta2 = fn.snell_law(n1, n2, theta1)\n",
    "\n",
    "theta3 = fn.snell_law(n2, n3, theta2)\n",
    "\n",
    "D1 = fn.inter(n1, theta1)\n",
    "D2 = fn.inter(n2, theta2)\n",
    "D3 = fn.inter(n3, theta3)\n",
    "\n",
    "D1inv = np.linalg.inv(D1)\n",
    "D2inv = np.linalg.inv(D2)\n",
    "P2 = fn.prop(n2, d, theta2, wavel)\n",
    "\n",
    "dtot = D1inv @ D2 @ P2 @ D2inv @ D3\n",
    "\n",
    "t = 1/dtot[0,0]\n",
    "r = dtot[1,0]/dtot[0,0]\n",
    "\n",
    "ta, ra = fn.coef_monocapa(n1, n2, n3, theta1, theta2, theta3, wavel)\n",
    "\n",
    "print(f't = {t}, ta = {ta} \\n r = {r}, ra = {ra}')\n",
    "\n"
   ]
  },
  {
   "cell_type": "code",
   "execution_count": null,
   "metadata": {},
   "outputs": [
    {
     "data": {
      "text/plain": [
       "array([[-0.99498206-0.10005349j,  0.        +0.j        ],\n",
       "       [ 0.        +0.j        ,  0.99498206-0.10005349j]])"
      ]
     },
     "execution_count": 3,
     "metadata": {},
     "output_type": "execute_result"
    }
   ],
   "source": [
    "A = "
   ]
  }
 ],
 "metadata": {
  "kernelspec": {
   "display_name": "base",
   "language": "python",
   "name": "python3"
  },
  "language_info": {
   "codemirror_mode": {
    "name": "ipython",
    "version": 3
   },
   "file_extension": ".py",
   "mimetype": "text/x-python",
   "name": "python",
   "nbconvert_exporter": "python",
   "pygments_lexer": "ipython3",
   "version": "3.12.0"
  }
 },
 "nbformat": 4,
 "nbformat_minor": 2
}
