{
 "cells": [
  {
   "cell_type": "code",
   "execution_count": 1,
   "metadata": {},
   "outputs": [],
   "source": [
    "\n",
    "import numpy as np\n",
    "import matplotlib.pyplot as plt\n",
    "\n",
    "import funciones as fn"
   ]
  },
  {
   "cell_type": "code",
   "execution_count": 2,
   "metadata": {},
   "outputs": [
    {
     "name": "stdout",
     "output_type": "stream",
     "text": [
      "t = 1.095357396528405e-16, ta = 1.0953573965284052e-16 \n",
      " r = -0.9999999999999998, ra = -1.0\n"
     ]
    }
   ],
   "source": [
    "n1 = 1.0\n",
    "n2 = 1.5\n",
    "theta1 = np.pi/2\n",
    "\n",
    "theta2 = fn.snell_law(n1, n2, theta1)\n",
    "\n",
    "D1 = fn.inter(n1, theta1)\n",
    "D2 = fn.inter(n2, theta2)\n",
    "\n",
    "D1inv = np.linalg.inv(D1)\n",
    "\n",
    "dtot = D1inv @ D2\n",
    "\n",
    "t = 1/dtot[0,0]\n",
    "\n",
    "r = dtot[1,0]/dtot[0,0]\n",
    "\n",
    "ta, ra = fn.coef_form(n1, n2, theta1, theta2)\n",
    "\n",
    "print(f't = {t}, ta = {ta} \\n r = {r}, ra = {ra}')\n",
    "\n"
   ]
  }
 ],
 "metadata": {
  "kernelspec": {
   "display_name": "base",
   "language": "python",
   "name": "python3"
  },
  "language_info": {
   "codemirror_mode": {
    "name": "ipython",
    "version": 3
   },
   "file_extension": ".py",
   "mimetype": "text/x-python",
   "name": "python",
   "nbconvert_exporter": "python",
   "pygments_lexer": "ipython3",
   "version": "3.11.5"
  }
 },
 "nbformat": 4,
 "nbformat_minor": 2
}
